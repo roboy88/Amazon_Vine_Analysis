{
  "nbformat": 4,
  "nbformat_minor": 0,
  "metadata": {
    "colab": {
      "provenance": [],
      "authorship_tag": "ABX9TyNyIAXqVnXx8FbC8iA8fXlJ",
      "include_colab_link": true
    },
    "kernelspec": {
      "name": "python3",
      "display_name": "Python 3"
    },
    "language_info": {
      "name": "python"
    }
  },
  "cells": [
    {
      "cell_type": "markdown",
      "metadata": {
        "id": "view-in-github",
        "colab_type": "text"
      },
      "source": [
        "<a href=\"https://colab.research.google.com/github/roboy88/Amazon_Vine_Analysis/blob/main/Untitled11.ipynb\" target=\"_parent\"><img src=\"https://colab.research.google.com/assets/colab-badge.svg\" alt=\"Open In Colab\"/></a>"
      ]
    },
    {
      "cell_type": "code",
      "execution_count": null,
      "metadata": {
        "id": "uZKelIUGaXKA"
      },
      "outputs": [],
      "source": [
        "#o1_data_analysis.ipynb\n",
        "#standard imports\n",
        "import pandas as pd\n",
        "import  numpy as np\n",
        "import matplotlib.pyplot as plt\n",
        "import seaborn as sns\n",
        "#Visualization settings\n",
        "sns.set(style=\"whitegrid\")\n",
        "plt.rcParams['figure.figsize'] = (10,10)\n",
        "print(Environment Ready\")\n"
      ]
    },
    {
      "cell_type": "markdown",
      "source": [],
      "metadata": {
        "id": "Rsogmdu_br0b"
      }
    },
    {
      "cell_type": "code",
      "source": [
        "From google.colab import file\n",
        "uploaded = files.upload()\n",
        "#replace with the name of your\n",
        "import io\n",
        "df=pd.read_csv(io.BytesIO(uploaded['o1_data_analysis.ipynb']))"
      ],
      "metadata": {
        "id": "BTgaWpTJb8WI"
      },
      "execution_count": null,
      "outputs": []
    }
  ]
}